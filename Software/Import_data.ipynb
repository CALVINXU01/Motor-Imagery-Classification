{
 "cells": [
  {
   "cell_type": "code",
   "execution_count": 1,
   "metadata": {},
   "outputs": [],
   "source": [
    "from mne.io import concatenate_raws, read_raw_edf\n",
    "import matplotlib.pyplot as plt\n",
    "import mne\n"
   ]
  },
  {
   "cell_type": "code",
   "execution_count": 11,
   "metadata": {},
   "outputs": [
    {
     "name": "stdout",
     "output_type": "stream",
     "text": [
      "Extracting EDF parameters from /Users/calvin-xu/github-projects/Motor-Imagery-Classification/S002R04.edf...\n",
      "EDF file detected\n",
      "Setting channel info structure...\n",
      "Creating raw.info structure...\n"
     ]
    }
   ],
   "source": [
    "raw = read_raw_edf(\"S002R04.edf\",preload=False)"
   ]
  },
  {
   "cell_type": "code",
   "execution_count": 14,
   "metadata": {},
   "outputs": [
    {
     "name": "stdout",
     "output_type": "stream",
     "text": [
      "Used Annotations descriptions: ['T0', 'T1', 'T2']\n",
      "{'T0': 1, 'T1': 2, 'T2': 3}\n",
      "[[    0     0     1]\n",
      " [  656     0     2]\n",
      " [ 1312     0     1]\n",
      " [ 1968     0     3]\n",
      " [ 2624     0     1]\n",
      " [ 3280     0     2]\n",
      " [ 3936     0     1]\n",
      " [ 4592     0     3]\n",
      " [ 5248     0     1]\n",
      " [ 5904     0     2]\n",
      " [ 6560     0     1]\n",
      " [ 7216     0     3]\n",
      " [ 7872     0     1]\n",
      " [ 8528     0     3]\n",
      " [ 9184     0     1]\n",
      " [ 9840     0     2]\n",
      " [10496     0     1]\n",
      " [11152     0     3]\n",
      " [11808     0     1]\n",
      " [12464     0     2]\n",
      " [13120     0     1]\n",
      " [13776     0     3]\n",
      " [14432     0     1]\n",
      " [15088     0     2]\n",
      " [15744     0     1]\n",
      " [16400     0     3]\n",
      " [17056     0     1]\n",
      " [17712     0     2]\n",
      " [18368     0     1]\n",
      " [19024     0     3]]\n"
     ]
    }
   ],
   "source": [
    "#mne.events_from_annotations(raw, event_id='auto', regexp='^(?![Bb][Aa][Dd]|[Ee][Dd][Gg][Ee]).*$', use_rounding=True, chunk_duration=None, verbose=None)\n",
    "events_from_annot, event_dict = mne.events_from_annotations(raw)\n",
    "print(event_dict)\n",
    "print(events_from_annot)"
   ]
  },
  {
   "cell_type": "code",
   "execution_count": null,
   "metadata": {},
   "outputs": [],
   "source": []
  },
  {
   "cell_type": "code",
   "execution_count": null,
   "metadata": {},
   "outputs": [],
   "source": []
  },
  {
   "cell_type": "code",
   "execution_count": null,
   "metadata": {},
   "outputs": [],
   "source": []
  }
 ],
 "metadata": {
  "kernelspec": {
   "display_name": "Python 3.11.5 ('EEG')",
   "language": "python",
   "name": "python3"
  },
  "language_info": {
   "codemirror_mode": {
    "name": "ipython",
    "version": 3
   },
   "file_extension": ".py",
   "mimetype": "text/x-python",
   "name": "python",
   "nbconvert_exporter": "python",
   "pygments_lexer": "ipython3",
   "version": "3.11.5"
  },
  "orig_nbformat": 4,
  "vscode": {
   "interpreter": {
    "hash": "f71ed57677e208335013492a8e56db14c4c7ef74a94efb1418fc43975fddff20"
   }
  }
 },
 "nbformat": 4,
 "nbformat_minor": 2
}
